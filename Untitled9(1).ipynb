{
 "cells": [
  {
   "cell_type": "markdown",
   "id": "3e183168",
   "metadata": {},
   "source": [
    "# Q1. ANS"
   ]
  },
  {
   "cell_type": "code",
   "execution_count": 1,
   "id": "8252e244",
   "metadata": {},
   "outputs": [],
   "source": [
    "import pandas as pd\n",
    "import numpy as np\n",
    "data=[4,8,15,16,23,42]\n"
   ]
  },
  {
   "cell_type": "code",
   "execution_count": 2,
   "id": "9f53ed41",
   "metadata": {},
   "outputs": [
    {
     "data": {
      "text/plain": [
       "0     4\n",
       "1     8\n",
       "2    15\n",
       "3    16\n",
       "4    23\n",
       "5    42\n",
       "dtype: int64"
      ]
     },
     "execution_count": 2,
     "metadata": {},
     "output_type": "execute_result"
    }
   ],
   "source": [
    "pd.Series(data)"
   ]
  },
  {
   "cell_type": "markdown",
   "id": "9cf6e9b3",
   "metadata": {},
   "source": [
    "# Q2. ANS"
   ]
  },
  {
   "cell_type": "code",
   "execution_count": 3,
   "id": "1d6b0227",
   "metadata": {},
   "outputs": [],
   "source": [
    "list=[10,12,13,14,15,17,16,22,76,78]"
   ]
  },
  {
   "cell_type": "code",
   "execution_count": 4,
   "id": "4b2f46ff",
   "metadata": {},
   "outputs": [],
   "source": [
    "series_df=pd.Series(list)"
   ]
  },
  {
   "cell_type": "code",
   "execution_count": 5,
   "id": "bb57cb97",
   "metadata": {},
   "outputs": [
    {
     "data": {
      "text/plain": [
       "0    10\n",
       "1    12\n",
       "2    13\n",
       "3    14\n",
       "4    15\n",
       "5    17\n",
       "6    16\n",
       "7    22\n",
       "8    76\n",
       "9    78\n",
       "dtype: int64"
      ]
     },
     "execution_count": 5,
     "metadata": {},
     "output_type": "execute_result"
    }
   ],
   "source": [
    "series_df"
   ]
  },
  {
   "cell_type": "markdown",
   "id": "e8a11b99",
   "metadata": {},
   "source": [
    "# Q3. ANS"
   ]
  },
  {
   "cell_type": "code",
   "execution_count": 6,
   "id": "52293193",
   "metadata": {},
   "outputs": [],
   "source": [
    "data={\n",
    "    'Name':['Alice','Bob','Claire'],\n",
    "    'Age': [25,30,27],\n",
    "    'Gender':['Female','Male','Female']\n",
    "}"
   ]
  },
  {
   "cell_type": "code",
   "execution_count": 7,
   "id": "3fbf4196",
   "metadata": {},
   "outputs": [],
   "source": [
    "df=pd.DataFrame(data,columns=['Name','Age','Gender'])"
   ]
  },
  {
   "cell_type": "code",
   "execution_count": 8,
   "id": "663c9715",
   "metadata": {},
   "outputs": [
    {
     "data": {
      "text/html": [
       "<div>\n",
       "<style scoped>\n",
       "    .dataframe tbody tr th:only-of-type {\n",
       "        vertical-align: middle;\n",
       "    }\n",
       "\n",
       "    .dataframe tbody tr th {\n",
       "        vertical-align: top;\n",
       "    }\n",
       "\n",
       "    .dataframe thead th {\n",
       "        text-align: right;\n",
       "    }\n",
       "</style>\n",
       "<table border=\"1\" class=\"dataframe\">\n",
       "  <thead>\n",
       "    <tr style=\"text-align: right;\">\n",
       "      <th></th>\n",
       "      <th>Name</th>\n",
       "      <th>Age</th>\n",
       "      <th>Gender</th>\n",
       "    </tr>\n",
       "  </thead>\n",
       "  <tbody>\n",
       "    <tr>\n",
       "      <th>0</th>\n",
       "      <td>Alice</td>\n",
       "      <td>25</td>\n",
       "      <td>Female</td>\n",
       "    </tr>\n",
       "    <tr>\n",
       "      <th>1</th>\n",
       "      <td>Bob</td>\n",
       "      <td>30</td>\n",
       "      <td>Male</td>\n",
       "    </tr>\n",
       "    <tr>\n",
       "      <th>2</th>\n",
       "      <td>Claire</td>\n",
       "      <td>27</td>\n",
       "      <td>Female</td>\n",
       "    </tr>\n",
       "  </tbody>\n",
       "</table>\n",
       "</div>"
      ],
      "text/plain": [
       "     Name  Age  Gender\n",
       "0   Alice   25  Female\n",
       "1     Bob   30    Male\n",
       "2  Claire   27  Female"
      ]
     },
     "execution_count": 8,
     "metadata": {},
     "output_type": "execute_result"
    }
   ],
   "source": [
    "df"
   ]
  },
  {
   "cell_type": "markdown",
   "id": "69ed7bad",
   "metadata": {},
   "source": [
    "# Q4. ANS"
   ]
  },
  {
   "cell_type": "markdown",
   "id": "0ccef8d0",
   "metadata": {},
   "source": [
    "In Pandas, a DataFrame is a two-dimensional, size-mutable, and tabular data structure that\n",
    "is commonly used for data manipulation and analysis. It is essentially a collection of Pandas \n",
    "Series objects that share the same index, allowing you to work with structured data \n",
    "in a way that resembles a spreadsheet or a SQL table.\n",
    "on the other hand,series is nothing  but it is single row or single column."
   ]
  },
  {
   "cell_type": "code",
   "execution_count": 9,
   "id": "7954c2e3",
   "metadata": {},
   "outputs": [
    {
     "name": "stdout",
     "output_type": "stream",
     "text": [
      "\n",
      "this is the exapmle of pandas_series\n",
      "\n"
     ]
    },
    {
     "data": {
      "text/plain": [
       "0    10\n",
       "1    12\n",
       "2    13\n",
       "3    14\n",
       "4    15\n",
       "5    17\n",
       "6    16\n",
       "7    22\n",
       "8    76\n",
       "9    78\n",
       "dtype: int64"
      ]
     },
     "execution_count": 9,
     "metadata": {},
     "output_type": "execute_result"
    }
   ],
   "source": [
    "#exampes of series is.....\n",
    "print()\n",
    "print('this is the exapmle of pandas_series')\n",
    "print()\n",
    "series_df"
   ]
  },
  {
   "cell_type": "code",
   "execution_count": 10,
   "id": "49320546",
   "metadata": {},
   "outputs": [
    {
     "name": "stdout",
     "output_type": "stream",
     "text": [
      "\n",
      "this is the example of DataFrame\n",
      "\n"
     ]
    },
    {
     "data": {
      "text/html": [
       "<div>\n",
       "<style scoped>\n",
       "    .dataframe tbody tr th:only-of-type {\n",
       "        vertical-align: middle;\n",
       "    }\n",
       "\n",
       "    .dataframe tbody tr th {\n",
       "        vertical-align: top;\n",
       "    }\n",
       "\n",
       "    .dataframe thead th {\n",
       "        text-align: right;\n",
       "    }\n",
       "</style>\n",
       "<table border=\"1\" class=\"dataframe\">\n",
       "  <thead>\n",
       "    <tr style=\"text-align: right;\">\n",
       "      <th></th>\n",
       "      <th>Name</th>\n",
       "      <th>Age</th>\n",
       "      <th>Gender</th>\n",
       "    </tr>\n",
       "  </thead>\n",
       "  <tbody>\n",
       "    <tr>\n",
       "      <th>0</th>\n",
       "      <td>Alice</td>\n",
       "      <td>25</td>\n",
       "      <td>Female</td>\n",
       "    </tr>\n",
       "    <tr>\n",
       "      <th>1</th>\n",
       "      <td>Bob</td>\n",
       "      <td>30</td>\n",
       "      <td>Male</td>\n",
       "    </tr>\n",
       "    <tr>\n",
       "      <th>2</th>\n",
       "      <td>Claire</td>\n",
       "      <td>27</td>\n",
       "      <td>Female</td>\n",
       "    </tr>\n",
       "  </tbody>\n",
       "</table>\n",
       "</div>"
      ],
      "text/plain": [
       "     Name  Age  Gender\n",
       "0   Alice   25  Female\n",
       "1     Bob   30    Male\n",
       "2  Claire   27  Female"
      ]
     },
     "execution_count": 10,
     "metadata": {},
     "output_type": "execute_result"
    }
   ],
   "source": [
    "#example of DataFrame is...\n",
    "print()\n",
    "print('this is the example of DataFrame')\n",
    "print()\n",
    "df"
   ]
  },
  {
   "cell_type": "markdown",
   "id": "3af94548",
   "metadata": {},
   "source": [
    "# Q5. ANS"
   ]
  },
  {
   "cell_type": "markdown",
   "id": "74855e18",
   "metadata": {},
   "source": [
    "# Important function in pandas DataFrame"
   ]
  },
  {
   "cell_type": "markdown",
   "id": "e98ae6c8",
   "metadata": {},
   "source": [
    "1. value_counts()\n",
    "2. sort_values()\n",
    "3. rank()\n",
    "5. sort_index()\n",
    "6. set_index()\n",
    "7. reset_index()\n",
    "8. unique()\n",
    "9. nunique()\n",
    "10. isnull()\n",
    "11. notnull()\n",
    "12. hasnans()\n",
    "13. dropna()\n",
    "14. fillna()\n",
    "15. drop_duplicates()\n",
    "16. drop()"
   ]
  },
  {
   "cell_type": "markdown",
   "id": "0077d822",
   "metadata": {},
   "source": [
    "# value_counts()\n",
    "applicable for both series and dataframe.it gives the frequency count of each unique item\n"
   ]
  },
  {
   "cell_type": "code",
   "execution_count": 11,
   "id": "57f32999",
   "metadata": {},
   "outputs": [
    {
     "data": {
      "text/html": [
       "<div>\n",
       "<style scoped>\n",
       "    .dataframe tbody tr th:only-of-type {\n",
       "        vertical-align: middle;\n",
       "    }\n",
       "\n",
       "    .dataframe tbody tr th {\n",
       "        vertical-align: top;\n",
       "    }\n",
       "\n",
       "    .dataframe thead th {\n",
       "        text-align: right;\n",
       "    }\n",
       "</style>\n",
       "<table border=\"1\" class=\"dataframe\">\n",
       "  <thead>\n",
       "    <tr style=\"text-align: right;\">\n",
       "      <th></th>\n",
       "      <th>Name</th>\n",
       "      <th>Age</th>\n",
       "      <th>Gender</th>\n",
       "    </tr>\n",
       "  </thead>\n",
       "  <tbody>\n",
       "    <tr>\n",
       "      <th>0</th>\n",
       "      <td>Alice</td>\n",
       "      <td>25</td>\n",
       "      <td>Female</td>\n",
       "    </tr>\n",
       "    <tr>\n",
       "      <th>1</th>\n",
       "      <td>Bob</td>\n",
       "      <td>30</td>\n",
       "      <td>Male</td>\n",
       "    </tr>\n",
       "    <tr>\n",
       "      <th>2</th>\n",
       "      <td>Claire</td>\n",
       "      <td>27</td>\n",
       "      <td>Female</td>\n",
       "    </tr>\n",
       "  </tbody>\n",
       "</table>\n",
       "</div>"
      ],
      "text/plain": [
       "     Name  Age  Gender\n",
       "0   Alice   25  Female\n",
       "1     Bob   30    Male\n",
       "2  Claire   27  Female"
      ]
     },
     "execution_count": 11,
     "metadata": {},
     "output_type": "execute_result"
    }
   ],
   "source": [
    "df"
   ]
  },
  {
   "cell_type": "code",
   "execution_count": 12,
   "id": "6bd3a845",
   "metadata": {},
   "outputs": [
    {
     "data": {
      "text/plain": [
       "Name    Age  Gender\n",
       "Alice   25   Female    1\n",
       "Bob     30   Male      1\n",
       "Claire  27   Female    1\n",
       "dtype: int64"
      ]
     },
     "execution_count": 12,
     "metadata": {},
     "output_type": "execute_result"
    }
   ],
   "source": [
    "df.value_counts()"
   ]
  },
  {
   "cell_type": "markdown",
   "id": "6ce0d01a",
   "metadata": {},
   "source": [
    "# Q6. ANS"
   ]
  },
  {
   "cell_type": "markdown",
   "id": "bfa3b76c",
   "metadata": {},
   "source": [
    "DataFrame is size mutable. we can add or remove columns from a DataFrame,\n",
    "and you can also change the number of rows."
   ]
  },
  {
   "cell_type": "markdown",
   "id": "c76b7241",
   "metadata": {},
   "source": [
    "# Q7. ANS"
   ]
  },
  {
   "cell_type": "code",
   "execution_count": 13,
   "id": "d1a1a7bf",
   "metadata": {},
   "outputs": [
    {
     "name": "stdout",
     "output_type": "stream",
     "text": [
      "      Name  Age         City\n",
      "0    Alice   25     New York\n",
      "1      Bob   30  Los Angeles\n",
      "2  Charlie   35      Chicago\n"
     ]
    }
   ],
   "source": [
    "import pandas as pd\n",
    "\n",
    "# Creating multiple Series\n",
    "names = pd.Series(['Alice', 'Bob', 'Charlie'])\n",
    "ages = pd.Series([25, 30, 35])\n",
    "cities = pd.Series(['New York', 'Los Angeles', 'Chicago'])\n",
    "\n",
    "# Creating a DataFrame from the Series\n",
    "data = {'Name': names, 'Age': ages, 'City': cities}\n",
    "df = pd.DataFrame(data)\n",
    "\n",
    "# Display the DataFrame\n",
    "print(df)\n"
   ]
  },
  {
   "cell_type": "code",
   "execution_count": null,
   "id": "f7520686",
   "metadata": {},
   "outputs": [],
   "source": []
  }
 ],
 "metadata": {
  "kernelspec": {
   "display_name": "Python 3 (ipykernel)",
   "language": "python",
   "name": "python3"
  },
  "language_info": {
   "codemirror_mode": {
    "name": "ipython",
    "version": 3
   },
   "file_extension": ".py",
   "mimetype": "text/x-python",
   "name": "python",
   "nbconvert_exporter": "python",
   "pygments_lexer": "ipython3",
   "version": "3.9.7"
  }
 },
 "nbformat": 4,
 "nbformat_minor": 5
}
